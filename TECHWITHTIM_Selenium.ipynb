{
 "cells": [
  {
   "cell_type": "code",
   "execution_count": null,
   "metadata": {},
   "outputs": [],
   "source": [
    "import selenium"
   ]
  },
  {
   "cell_type": "code",
   "execution_count": null,
   "metadata": {},
   "outputs": [],
   "source": [
    "from selenium import webdriver\n",
    "from selenium.webdriver.common.keys import Keys\n",
    "from selenium.webdriver.common.by import By\n",
    "from selenium.webdriver.support.ui import WebDriverWait\n",
    "from selenium.webdriver.support import expected_conditions as EC\n",
    "from selenium.webdriver.common.action_chains import ActionChains\n",
    "import time "
   ]
  },
  {
   "cell_type": "code",
   "execution_count": null,
   "metadata": {},
   "outputs": [],
   "source": [
    "PATH = \"C:/Users/User/Downloads/chromedriver_win32/chromedriver.exe\""
   ]
  },
  {
   "cell_type": "code",
   "execution_count": null,
   "metadata": {},
   "outputs": [],
   "source": [
    "driver = webdriver.Chrome(PATH)"
   ]
  },
  {
   "cell_type": "code",
   "execution_count": null,
   "metadata": {},
   "outputs": [],
   "source": [
    "driver.get('https://djadmin.onpoint.vn/opollo/octoposinventories-/export-csv/')"
   ]
  },
  {
   "cell_type": "code",
   "execution_count": null,
   "metadata": {},
   "outputs": [],
   "source": [
    "search=driver.find_element_by_id(\"id_number_of_rows\")\n",
    "search.clear()\n",
    "search.send_keys(\"2000\")\n",
    "search.send_keys(Keys.RETURN)"
   ]
  },
  {
   "cell_type": "code",
   "execution_count": null,
   "metadata": {},
   "outputs": [],
   "source": [
    "driver.find_element_by_xpath('//*[@id=\"content\"]/div/form/button').click()"
   ]
  },
  {
   "cell_type": "code",
   "execution_count": null,
   "metadata": {},
   "outputs": [],
   "source": [
    "try:\n",
    "    main = WebDriverWait(driver, 10).until(EC.presence_of_element_located((By.ID, \"main\")))\n",
    "    articles = main.find_elements_by_tag_name(\"article\")\n",
    "    for article in articles:\n",
    "        header = article.find_element_by_class_name(\"entry-summary\")\n",
    "        print(header.text)\n",
    "finally:                                           \n",
    "    driver.quit()"
   ]
  },
  {
   "cell_type": "code",
   "execution_count": null,
   "metadata": {},
   "outputs": [],
   "source": [
    "driver = webdriver.Chrome(PATH)\n",
    "driver.get('https://orteil.dashnet.org/cookieclicker/')\n",
    "link = driver.find_element_by_link_text(\"Python Programming\")\n",
    "link.click()\n",
    "try:\n",
    "    element=WebDriverWait(driver, 10).until(EC.presence_of_element_located((By.LINK_TEXT, \"Beginner Python Tutorials\")))\n",
    "    element.click()\n",
    "    element=WebDriverWait(driver, 10).until(EC.presence_of_element_located((By.ID, \"sow-button-19310003\")))\n",
    "    element.click()\n",
    "    driver.back()\n",
    "    driver.back()\n",
    "    driver.back()\n",
    "    driver.forward()\n",
    "    driver.forward()\n",
    "except:\n",
    "    driver.quit()"
   ]
  },
  {
   "cell_type": "code",
   "execution_count": null,
   "metadata": {},
   "outputs": [],
   "source": [
    "PATH = \"C:/Users/User/Downloads/chromedriver_win32/chromedriver.exe\"\n",
    "driver = webdriver.Chrome(PATH)\n",
    "driver.get('https://orteil.dashnet.org/cookieclicker/')\n",
    "driver. implicitly_wait(5)\n",
    "\n",
    "cookie = driver.find_element_by_id(\"bigCookie\")\n",
    "cookie_count = driver.find_element_by_id(\"cookies\")\n",
    "#items = [driver.find_element_by_id(\"productPrice\"+str(i) for i range(1,-1,-1))]"
   ]
  },
  {
   "cell_type": "code",
   "execution_count": null,
   "metadata": {
    "scrolled": true
   },
   "outputs": [],
   "source": [
    "items = [driver.find_element_by_id(\"productPrice\"+str(i)) for i in range(1,-1,-1)]\n",
    "print(items)"
   ]
  },
  {
   "cell_type": "code",
   "execution_count": null,
   "metadata": {},
   "outputs": [],
   "source": [
    "for i in range(1,-1,-1):\n",
    "    print(i)"
   ]
  },
  {
   "cell_type": "code",
   "execution_count": null,
   "metadata": {},
   "outputs": [],
   "source": [
    "actions=ActionChains(driver)\n",
    "actions.click(cookie)\n",
    "for i in range(5000):\n",
    "    actions.perform()\n",
    "    count = int(cookie_count.text.split(\" \")[0])\n",
    "    for item in items:\n",
    "        value = int(item.text)\n",
    "        if value <= count:\n",
    "            upgrade_actions = ActionChains(driver)\n",
    "            upgrade_actions.move_to_element(item)\n",
    "            upgrade_actions.click()\n",
    "            upgrade_actions.perform()"
   ]
  },
  {
   "cell_type": "code",
   "execution_count": null,
   "metadata": {},
   "outputs": [],
   "source": []
  }
 ],
 "metadata": {
  "kernelspec": {
   "display_name": "Python 3",
   "language": "python",
   "name": "python3"
  },
  "language_info": {
   "codemirror_mode": {
    "name": "ipython",
    "version": 3
   },
   "file_extension": ".py",
   "mimetype": "text/x-python",
   "name": "python",
   "nbconvert_exporter": "python",
   "pygments_lexer": "ipython3",
   "version": "3.8.3"
  }
 },
 "nbformat": 4,
 "nbformat_minor": 4
}
