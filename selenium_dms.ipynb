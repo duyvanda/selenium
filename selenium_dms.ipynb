{
 "cells": [
  {
   "cell_type": "code",
   "execution_count": 1,
   "id": "1892619f",
   "metadata": {},
   "outputs": [],
   "source": [
    "from selenium import webdriver\n",
    "from selenium.webdriver.common.keys import Keys\n",
    "from selenium.webdriver.common.by import By\n",
    "from selenium.webdriver.support.ui import WebDriverWait\n",
    "from selenium.webdriver.support import expected_conditions as EC\n",
    "from selenium.webdriver.common.action_chains import ActionChains\n",
    "import time"
   ]
  },
  {
   "cell_type": "code",
   "execution_count": 2,
   "id": "a281db8d",
   "metadata": {},
   "outputs": [],
   "source": [
    "PATH = \"C:/Users/DELL/selenium-main/chromedriver_win32/chromedriver.exe\"\n",
    "driver = webdriver.Chrome(PATH)"
   ]
  },
  {
   "cell_type": "code",
   "execution_count": 3,
   "id": "28d9d091",
   "metadata": {},
   "outputs": [
    {
     "data": {
      "text/plain": [
       "'eSales Cloud DMS - eSales'"
      ]
     },
     "execution_count": 3,
     "metadata": {},
     "output_type": "execute_result"
    }
   ],
   "source": [
    "driver.get('http://dms.phanam.com.vn/')\n",
    "driver.maximize_window()\n",
    "driver.title"
   ]
  },
  {
   "cell_type": "code",
   "execution_count": 4,
   "id": "d27666b1",
   "metadata": {},
   "outputs": [],
   "source": [
    "user_id = \"txtUserName-inputEl\"\n",
    "password_id = \"txtPassword-inputEl\"\n",
    "dangnhap_id = \"btnLogin-btnIconEl\""
   ]
  },
  {
   "cell_type": "code",
   "execution_count": 5,
   "id": "f2b6f94d",
   "metadata": {},
   "outputs": [],
   "source": [
    "driver.find_element_by_id(user_id).send_keys(\"MR2523\")\n",
    "driver.find_element_by_id(password_id).send_keys(\"duyvq@123\")\n",
    "driver.find_element_by_id(dangnhap_id).click()"
   ]
  },
  {
   "cell_type": "code",
   "execution_count": 6,
   "id": "a6a14db6",
   "metadata": {},
   "outputs": [],
   "source": [
    "classname = 'x-tree-node-text '"
   ]
  },
  {
   "cell_type": "code",
   "execution_count": 7,
   "id": "0bdc2e59",
   "metadata": {},
   "outputs": [],
   "source": [
    "driver.find_elements_by_class_name(classname)[0].click()"
   ]
  },
  {
   "cell_type": "code",
   "execution_count": 8,
   "id": "28b6aa45",
   "metadata": {},
   "outputs": [
    {
     "data": {
      "text/plain": [
       "10"
      ]
     },
     "execution_count": 8,
     "metadata": {},
     "output_type": "execute_result"
    }
   ],
   "source": [
    "len(driver.find_elements_by_class_name(classname))"
   ]
  },
  {
   "cell_type": "code",
   "execution_count": 9,
   "id": "99f96bb2",
   "metadata": {},
   "outputs": [],
   "source": [
    "driver.find_elements_by_class_name(classname)[3].click()"
   ]
  },
  {
   "cell_type": "code",
   "execution_count": 10,
   "id": "771dd2dc",
   "metadata": {},
   "outputs": [],
   "source": [
    "driver.find_elements_by_class_name(classname)[5].click()"
   ]
  },
  {
   "cell_type": "code",
   "execution_count": 11,
   "id": "ff6a65e6",
   "metadata": {},
   "outputs": [
    {
     "name": "stdout",
     "output_type": "stream",
     "text": [
      "No of frames present in the web page are:  1\n"
     ]
    }
   ],
   "source": [
    "seq = driver.find_elements_by_tag_name('iframe')\n",
    "\n",
    "print(\"No of frames present in the web page are: \", len(seq))"
   ]
  },
  {
   "cell_type": "code",
   "execution_count": 12,
   "id": "8adbfff0",
   "metadata": {},
   "outputs": [],
   "source": [
    "iframe = driver.find_elements_by_tag_name('iframe')[0]\n",
    "driver.switch_to.frame(iframe)"
   ]
  },
  {
   "cell_type": "code",
   "execution_count": 13,
   "id": "d670383b",
   "metadata": {},
   "outputs": [],
   "source": [
    "tungayid = 'cboDate00-inputEl'\n",
    "driver.find_element_by_id(tungayid).clear()\n",
    "driver.find_element_by_id(tungayid).send_keys(\"01-06-2021\")"
   ]
  },
  {
   "cell_type": "code",
   "execution_count": 14,
   "id": "818c227f",
   "metadata": {},
   "outputs": [],
   "source": [
    "denngayid = 'cboDate01-inputEl'\n",
    "driver.find_element_by_id(denngayid).clear()\n",
    "driver.find_element_by_id(denngayid).send_keys(\"01-06-2021\")"
   ]
  },
  {
   "cell_type": "code",
   "execution_count": 15,
   "id": "375be1a7",
   "metadata": {},
   "outputs": [],
   "source": [
    "macongtyid = 'chkList0-inputEl'\n",
    "driver.find_element_by_id(macongtyid).click()"
   ]
  },
  {
   "cell_type": "code",
   "execution_count": 16,
   "id": "7f8a4df6",
   "metadata": {},
   "outputs": [],
   "source": [
    "exportid = 'btnExport-btnInnerEl'\n",
    "driver.find_element_by_id(exportid).click()"
   ]
  },
  {
   "cell_type": "code",
   "execution_count": null,
   "id": "213d166d",
   "metadata": {},
   "outputs": [],
   "source": [
    "driver.switch_to.default_content()"
   ]
  }
 ],
 "metadata": {
  "kernelspec": {
   "display_name": "Python 3",
   "language": "python",
   "name": "python3"
  },
  "language_info": {
   "codemirror_mode": {
    "name": "ipython",
    "version": 3
   },
   "file_extension": ".py",
   "mimetype": "text/x-python",
   "name": "python",
   "nbconvert_exporter": "python",
   "pygments_lexer": "ipython3",
   "version": "3.8.10"
  }
 },
 "nbformat": 4,
 "nbformat_minor": 5
}
